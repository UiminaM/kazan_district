{
  "nbformat": 4,
  "nbformat_minor": 0,
  "metadata": {
    "colab": {
      "provenance": []
    },
    "kernelspec": {
      "name": "python3",
      "display_name": "Python 3"
    },
    "language_info": {
      "name": "python"
    },
    "widgets": {
      "application/vnd.jupyter.widget-state+json": {
        "50576b16b6f24f3798e09444eb27de2d": {
          "model_module": "jupyter-leaflet",
          "model_name": "LeafletMapModel",
          "model_module_version": "^0.18",
          "state": {
            "_dom_classes": [],
            "_model_module": "jupyter-leaflet",
            "_model_module_version": "^0.18",
            "_model_name": "LeafletMapModel",
            "_view_count": null,
            "_view_module": "jupyter-leaflet",
            "_view_module_version": "^0.18",
            "_view_name": "LeafletMapView",
            "bottom": 328036,
            "bounce_at_zoom_limits": true,
            "box_zoom": true,
            "center": [
              55.79462976,
              49.15689314
            ],
            "close_popup_on_click": true,
            "controls": [
              "IPY_MODEL_12837884416749bc96ea3cf8b1f636d1",
              "IPY_MODEL_df0cda2537414e7c938e98ceaa0e2748",
              "IPY_MODEL_5abbf6a26fd84f068f717ec61ab2e683"
            ],
            "crs": {
              "name": "EPSG3857",
              "custom": false
            },
            "default_style": "IPY_MODEL_67bcd63082ea4e9fb587266affad7d4c",
            "double_click_zoom": true,
            "dragging": true,
            "dragging_style": "IPY_MODEL_498bbaa2269f4a0c8fac06c7f70093f3",
            "east": 49.311447143554695,
            "fullscreen": false,
            "inertia": true,
            "inertia_deceleration": 3000,
            "inertia_max_speed": 1500,
            "interpolation": "bilinear",
            "keyboard": true,
            "keyboard_pan_offset": 80,
            "keyboard_zoom_offset": 1,
            "layers": [
              "IPY_MODEL_51b92ab56dda492b81f8d7b8650d0bd9",
              "IPY_MODEL_fe8773108cc44356b9cf4e1fed4f5a7c",
              "IPY_MODEL_681d4cd1894b4dae8e91660d7ca35a25",
              "IPY_MODEL_5aaf0d251f4b49e5b1e54cbedfc3c8d2",
              "IPY_MODEL_27cd4a8fa51c4ca78f0440acfc5d8e30",
              "IPY_MODEL_679859279285456ea779831e8fb20fdf",
              "IPY_MODEL_47fa07eb285f416eb208ca28deab9525",
              "IPY_MODEL_8011743eb17c47d3a4e7aa8bb66553ba",
              "IPY_MODEL_497d751403e04a52833491b33013f296",
              "IPY_MODEL_2ab2b2eb04e04c95992d10c54a4247bd",
              "IPY_MODEL_9df938f43c6545c097e0afe9dd8d39a0",
              "IPY_MODEL_344c53906c2845d28bb14ecc8999e41f",
              "IPY_MODEL_8480ba66304f47e393e45753053f8617",
              "IPY_MODEL_a3432986807c4addb41f8181514dfb61",
              "IPY_MODEL_d34ec067588d4556aad58dd25cc86b6b",
              "IPY_MODEL_4903b8883fe1499d82cd47fcae541416",
              "IPY_MODEL_bd5eb1fe936e4287afa97c62ee6d30ca"
            ],
            "layout": "IPY_MODEL_36d8bb0e65ee42f3a2d5c3aadcd83f48",
            "left": 667018,
            "max_zoom": null,
            "min_zoom": null,
            "modisdate": "2024-05-29",
            "north": 55.88147363004733,
            "options": [
              "bounce_at_zoom_limits",
              "box_zoom",
              "center",
              "close_popup_on_click",
              "double_click_zoom",
              "dragging",
              "fullscreen",
              "inertia",
              "inertia_deceleration",
              "inertia_max_speed",
              "interpolation",
              "keyboard",
              "keyboard_pan_offset",
              "keyboard_zoom_offset",
              "max_zoom",
              "min_zoom",
              "prefer_canvas",
              "scroll_wheel_zoom",
              "tap",
              "tap_tolerance",
              "touch_zoom",
              "world_copy_jump",
              "zoom",
              "zoom_animation_threshold",
              "zoom_delta",
              "zoom_snap"
            ],
            "panes": {},
            "prefer_canvas": false,
            "right": 667918,
            "scroll_wheel_zoom": false,
            "south": 55.70777158827011,
            "style": "IPY_MODEL_e379e87f8305457daa3c2a2f31dc8e80",
            "tap": true,
            "tap_tolerance": 15,
            "top": 327136,
            "touch_zoom": true,
            "west": 49.00245666503907,
            "window_url": "https://lf9j9tyrp9n-496ff2e9c6d22116-0-colab.googleusercontent.com/outputframe.html?vrz=colab_20240529-060114_RC01_638411567",
            "world_copy_jump": false,
            "zoom": 12,
            "zoom_animation_threshold": 4,
            "zoom_delta": 1,
            "zoom_snap": 1
          }
        },
        "12837884416749bc96ea3cf8b1f636d1": {
          "model_module": "jupyter-leaflet",
          "model_name": "LeafletZoomControlModel",
          "model_module_version": "^0.18",
          "state": {
            "_model_module": "jupyter-leaflet",
            "_model_module_version": "^0.18",
            "_model_name": "LeafletZoomControlModel",
            "_view_count": null,
            "_view_module": "jupyter-leaflet",
            "_view_module_version": "^0.18",
            "_view_name": "LeafletZoomControlView",
            "options": [
              "position",
              "zoom_in_text",
              "zoom_in_title",
              "zoom_out_text",
              "zoom_out_title"
            ],
            "position": "topleft",
            "zoom_in_text": "+",
            "zoom_in_title": "Zoom in",
            "zoom_out_text": "-",
            "zoom_out_title": "Zoom out"
          }
        },
        "df0cda2537414e7c938e98ceaa0e2748": {
          "model_module": "jupyter-leaflet",
          "model_name": "LeafletAttributionControlModel",
          "model_module_version": "^0.18",
          "state": {
            "_model_module": "jupyter-leaflet",
            "_model_module_version": "^0.18",
            "_model_name": "LeafletAttributionControlModel",
            "_view_count": null,
            "_view_module": "jupyter-leaflet",
            "_view_module_version": "^0.18",
            "_view_name": "LeafletAttributionControlView",
            "options": [
              "position",
              "prefix"
            ],
            "position": "bottomright",
            "prefix": "ipyleaflet"
          }
        },
        "5abbf6a26fd84f068f717ec61ab2e683": {
          "model_module": "jupyter-leaflet",
          "model_name": "LeafletLegendControlModel",
          "model_module_version": "^0.18",
          "state": {
            "_model_module": "jupyter-leaflet",
            "_model_module_version": "^0.18",
            "_model_name": "LeafletLegendControlModel",
            "_view_count": null,
            "_view_module": "jupyter-leaflet",
            "_view_module_version": "^0.18",
            "_view_name": "LeafletLegendControlView",
            "legend": {
              "Авиастроительный р-н": "pink",
              "Вахитовский р-н": "black",
              "Верхнеуслонский р-н": "brown",
              "Кировский р-н": "blue",
              "Московский р-н": "red",
              "Ново-Савиновский р-н": "white",
              "Приволжский р-н": "yellow",
              "Советский р-н": "green"
            },
            "options": [
              "position"
            ],
            "position": "topleft",
            "title": "Районы Казани"
          }
        },
        "67bcd63082ea4e9fb587266affad7d4c": {
          "model_module": "jupyter-leaflet",
          "model_name": "LeafletMapStyleModel",
          "model_module_version": "^0.18",
          "state": {
            "_model_module": "jupyter-leaflet",
            "_model_module_version": "^0.18",
            "_model_name": "LeafletMapStyleModel",
            "_view_count": null,
            "_view_module": "@jupyter-widgets/base",
            "_view_module_version": "1.2.0",
            "_view_name": "StyleView",
            "cursor": "grab"
          }
        },
        "498bbaa2269f4a0c8fac06c7f70093f3": {
          "model_module": "jupyter-leaflet",
          "model_name": "LeafletMapStyleModel",
          "model_module_version": "^0.18",
          "state": {
            "_model_module": "jupyter-leaflet",
            "_model_module_version": "^0.18",
            "_model_name": "LeafletMapStyleModel",
            "_view_count": null,
            "_view_module": "@jupyter-widgets/base",
            "_view_module_version": "1.2.0",
            "_view_name": "StyleView",
            "cursor": "move"
          }
        },
        "51b92ab56dda492b81f8d7b8650d0bd9": {
          "model_module": "jupyter-leaflet",
          "model_name": "LeafletTileLayerModel",
          "model_module_version": "^0.18",
          "state": {
            "_model_module": "jupyter-leaflet",
            "_model_module_version": "^0.18",
            "_model_name": "LeafletTileLayerModel",
            "_view_count": null,
            "_view_module": "jupyter-leaflet",
            "_view_module_version": "^0.18",
            "_view_name": "LeafletTileLayerView",
            "attribution": "&copy; <a href=\"https://www.openstreetmap.org/copyright\">OpenStreetMap</a> contributors",
            "base": true,
            "bottom": true,
            "bounds": null,
            "detect_retina": false,
            "loading": false,
            "max_native_zoom": null,
            "max_zoom": 19,
            "min_native_zoom": null,
            "min_zoom": 1,
            "name": "OpenStreetMap.Mapnik",
            "no_wrap": false,
            "opacity": 1,
            "options": [
              "attribution",
              "bounds",
              "detect_retina",
              "max_native_zoom",
              "max_zoom",
              "min_native_zoom",
              "min_zoom",
              "no_wrap",
              "tile_size",
              "tms",
              "zoom_offset"
            ],
            "pane": "",
            "popup": null,
            "popup_max_height": null,
            "popup_max_width": 300,
            "popup_min_width": 50,
            "show_loading": false,
            "subitems": [],
            "tile_size": 256,
            "tms": false,
            "url": "https://tile.openstreetmap.org/{z}/{x}/{y}.png",
            "visible": true,
            "zoom_offset": 0
          }
        },
        "fe8773108cc44356b9cf4e1fed4f5a7c": {
          "model_module": "jupyter-leaflet",
          "model_name": "LeafletMarkerModel",
          "model_module_version": "^0.18",
          "state": {
            "_model_module": "jupyter-leaflet",
            "_model_module_version": "^0.18",
            "_model_name": "LeafletMarkerModel",
            "_view_count": null,
            "_view_module": "jupyter-leaflet",
            "_view_module_version": "^0.18",
            "_view_name": "LeafletMarkerView",
            "alt": "",
            "base": false,
            "bottom": false,
            "draggable": true,
            "icon": null,
            "keyboard": true,
            "location": [
              55.85295345,
              49.09202872666666
            ],
            "name": "",
            "opacity": 1,
            "options": [
              "alt",
              "draggable",
              "keyboard",
              "rise_offset",
              "rise_on_hover",
              "rotation_angle",
              "rotation_origin",
              "title",
              "z_index_offset"
            ],
            "pane": "",
            "popup": null,
            "popup_max_height": null,
            "popup_max_width": 300,
            "popup_min_width": 50,
            "rise_offset": 250,
            "rise_on_hover": false,
            "rotation_angle": 0,
            "rotation_origin": "",
            "subitems": [],
            "title": "Авиастроительный р-н",
            "visible": true,
            "z_index_offset": 0
          }
        },
        "681d4cd1894b4dae8e91660d7ca35a25": {
          "model_module": "jupyter-leaflet",
          "model_name": "LeafletPolygonModel",
          "model_module_version": "^0.18",
          "state": {
            "_model_module": "jupyter-leaflet",
            "_model_module_version": "^0.18",
            "_model_name": "LeafletPolygonModel",
            "_view_count": null,
            "_view_module": "jupyter-leaflet",
            "_view_module_version": "^0.18",
            "_view_name": "LeafletPolygonView",
            "base": false,
            "bottom": false,
            "color": "pink",
            "dash_array": null,
            "draggable": false,
            "fill": true,
            "fill_color": "pink",
            "fill_opacity": 0.2,
            "line_cap": "round",
            "line_join": "round",
            "locations": [
              [
                55.84964884,
                49.13678437
              ],
              [
                55.84475643,
                49.0878232
              ],
              [
                55.84693701,
                49.06172313
              ],
              [
                55.84739923,
                49.05944653
              ],
              [
                55.8512175,
                49.05064957
              ],
              [
                55.85380298,
                49.05278627
              ],
              [
                55.86438327,
                49.09596706
              ],
              [
                55.86704972,
                49.14431005
              ],
              [
                55.85138607,
                49.13876836
              ]
            ],
            "name": "",
            "no_clip": true,
            "opacity": 1,
            "options": [
              "color",
              "dash_array",
              "draggable",
              "fill",
              "fill_color",
              "fill_opacity",
              "line_cap",
              "line_join",
              "no_clip",
              "opacity",
              "pointer_events",
              "smooth_factor",
              "stroke",
              "transform",
              "weight"
            ],
            "pane": "",
            "pointer_events": "",
            "popup": null,
            "popup_max_height": null,
            "popup_max_width": 300,
            "popup_min_width": 50,
            "rotation": true,
            "scaling": true,
            "smooth_factor": 1,
            "stroke": true,
            "subitems": [],
            "transform": false,
            "uniform_scaling": false,
            "weight": 5
          }
        },
        "5aaf0d251f4b49e5b1e54cbedfc3c8d2": {
          "model_module": "jupyter-leaflet",
          "model_name": "LeafletMarkerModel",
          "model_module_version": "^0.18",
          "state": {
            "_model_module": "jupyter-leaflet",
            "_model_module_version": "^0.18",
            "_model_name": "LeafletMarkerModel",
            "_view_count": null,
            "_view_module": "jupyter-leaflet",
            "_view_module_version": "^0.18",
            "_view_name": "LeafletMarkerView",
            "alt": "",
            "base": false,
            "bottom": false,
            "draggable": true,
            "icon": null,
            "keyboard": true,
            "location": [
              55.78264653000001,
              49.131436175000005
            ],
            "name": "",
            "opacity": 1,
            "options": [
              "alt",
              "draggable",
              "keyboard",
              "rise_offset",
              "rise_on_hover",
              "rotation_angle",
              "rotation_origin",
              "title",
              "z_index_offset"
            ],
            "pane": "",
            "popup": null,
            "popup_max_height": null,
            "popup_max_width": 300,
            "popup_min_width": 50,
            "rise_offset": 250,
            "rise_on_hover": false,
            "rotation_angle": 0,
            "rotation_origin": "",
            "subitems": [],
            "title": "Вахитовский р-н",
            "visible": true,
            "z_index_offset": 0
          }
        },
        "27cd4a8fa51c4ca78f0440acfc5d8e30": {
          "model_module": "jupyter-leaflet",
          "model_name": "LeafletPolygonModel",
          "model_module_version": "^0.18",
          "state": {
            "_model_module": "jupyter-leaflet",
            "_model_module_version": "^0.18",
            "_model_name": "LeafletPolygonModel",
            "_view_count": null,
            "_view_module": "jupyter-leaflet",
            "_view_module_version": "^0.18",
            "_view_name": "LeafletPolygonView",
            "base": false,
            "bottom": false,
            "color": "black",
            "dash_array": null,
            "draggable": false,
            "fill": true,
            "fill_color": "black",
            "fill_opacity": 0.2,
            "line_cap": "round",
            "line_join": "round",
            "locations": [
              [
                55.79695093,
                49.07940637
              ],
              [
                55.8050097,
                49.12012959
              ],
              [
                55.80437154,
                49.14670158
              ],
              [
                55.80367795,
                49.15514583
              ],
              [
                55.79088496,
                49.1618259
              ],
              [
                55.76999698,
                49.17004746
              ],
              [
                55.76792331,
                49.16483669
              ],
              [
                55.76604657,
                49.15729426
              ],
              [
                55.75989995,
                49.08043905
              ],
              [
                55.76170341,
                49.07853502
              ]
            ],
            "name": "",
            "no_clip": true,
            "opacity": 1,
            "options": [
              "color",
              "dash_array",
              "draggable",
              "fill",
              "fill_color",
              "fill_opacity",
              "line_cap",
              "line_join",
              "no_clip",
              "opacity",
              "pointer_events",
              "smooth_factor",
              "stroke",
              "transform",
              "weight"
            ],
            "pane": "",
            "pointer_events": "",
            "popup": null,
            "popup_max_height": null,
            "popup_max_width": 300,
            "popup_min_width": 50,
            "rotation": true,
            "scaling": true,
            "smooth_factor": 1,
            "stroke": true,
            "subitems": [],
            "transform": false,
            "uniform_scaling": false,
            "weight": 5
          }
        },
        "679859279285456ea779831e8fb20fdf": {
          "model_module": "jupyter-leaflet",
          "model_name": "LeafletMarkerModel",
          "model_module_version": "^0.18",
          "state": {
            "_model_module": "jupyter-leaflet",
            "_model_module_version": "^0.18",
            "_model_name": "LeafletMarkerModel",
            "_view_count": null,
            "_view_module": "jupyter-leaflet",
            "_view_module_version": "^0.18",
            "_view_name": "LeafletMarkerView",
            "alt": "",
            "base": false,
            "bottom": false,
            "draggable": true,
            "icon": null,
            "keyboard": true,
            "location": [
              55.76591322875001,
              48.987445281250004
            ],
            "name": "",
            "opacity": 1,
            "options": [
              "alt",
              "draggable",
              "keyboard",
              "rise_offset",
              "rise_on_hover",
              "rotation_angle",
              "rotation_origin",
              "title",
              "z_index_offset"
            ],
            "pane": "",
            "popup": null,
            "popup_max_height": null,
            "popup_max_width": 300,
            "popup_min_width": 50,
            "rise_offset": 250,
            "rise_on_hover": false,
            "rotation_angle": 0,
            "rotation_origin": "",
            "subitems": [],
            "title": "Верхнеуслонский р-н",
            "visible": true,
            "z_index_offset": 0
          }
        },
        "47fa07eb285f416eb208ca28deab9525": {
          "model_module": "jupyter-leaflet",
          "model_name": "LeafletPolygonModel",
          "model_module_version": "^0.18",
          "state": {
            "_model_module": "jupyter-leaflet",
            "_model_module_version": "^0.18",
            "_model_name": "LeafletPolygonModel",
            "_view_count": null,
            "_view_module": "jupyter-leaflet",
            "_view_module_version": "^0.18",
            "_view_name": "LeafletPolygonView",
            "base": false,
            "bottom": false,
            "color": "brown",
            "dash_array": null,
            "draggable": false,
            "fill": true,
            "fill_color": "brown",
            "fill_opacity": 0.2,
            "line_cap": "round",
            "line_join": "round",
            "locations": [
              [
                55.75396248,
                48.99221216
              ],
              [
                55.7601299,
                48.98041104
              ],
              [
                55.7681986,
                48.98036832
              ],
              [
                55.76988209,
                48.98200914
              ],
              [
                55.77219498,
                48.98689375
              ],
              [
                55.7720068,
                48.98837987
              ],
              [
                55.76826878,
                48.99391249
              ],
              [
                55.7626622,
                48.99537548
              ]
            ],
            "name": "",
            "no_clip": true,
            "opacity": 1,
            "options": [
              "color",
              "dash_array",
              "draggable",
              "fill",
              "fill_color",
              "fill_opacity",
              "line_cap",
              "line_join",
              "no_clip",
              "opacity",
              "pointer_events",
              "smooth_factor",
              "stroke",
              "transform",
              "weight"
            ],
            "pane": "",
            "pointer_events": "",
            "popup": null,
            "popup_max_height": null,
            "popup_max_width": 300,
            "popup_min_width": 50,
            "rotation": true,
            "scaling": true,
            "smooth_factor": 1,
            "stroke": true,
            "subitems": [],
            "transform": false,
            "uniform_scaling": false,
            "weight": 5
          }
        },
        "8011743eb17c47d3a4e7aa8bb66553ba": {
          "model_module": "jupyter-leaflet",
          "model_name": "LeafletMarkerModel",
          "model_module_version": "^0.18",
          "state": {
            "_model_module": "jupyter-leaflet",
            "_model_module_version": "^0.18",
            "_model_name": "LeafletMarkerModel",
            "_view_count": null,
            "_view_module": "jupyter-leaflet",
            "_view_module_version": "^0.18",
            "_view_name": "LeafletMarkerView",
            "alt": "",
            "base": false,
            "bottom": false,
            "draggable": true,
            "icon": null,
            "keyboard": true,
            "location": [
              55.81102103666666,
              49.04412378777778
            ],
            "name": "",
            "opacity": 1,
            "options": [
              "alt",
              "draggable",
              "keyboard",
              "rise_offset",
              "rise_on_hover",
              "rotation_angle",
              "rotation_origin",
              "title",
              "z_index_offset"
            ],
            "pane": "",
            "popup": null,
            "popup_max_height": null,
            "popup_max_width": 300,
            "popup_min_width": 50,
            "rise_offset": 250,
            "rise_on_hover": false,
            "rotation_angle": 0,
            "rotation_origin": "",
            "subitems": [],
            "title": "Кировский р-н",
            "visible": true,
            "z_index_offset": 0
          }
        },
        "497d751403e04a52833491b33013f296": {
          "model_module": "jupyter-leaflet",
          "model_name": "LeafletPolygonModel",
          "model_module_version": "^0.18",
          "state": {
            "_model_module": "jupyter-leaflet",
            "_model_module_version": "^0.18",
            "_model_name": "LeafletPolygonModel",
            "_view_count": null,
            "_view_module": "jupyter-leaflet",
            "_view_module_version": "^0.18",
            "_view_name": "LeafletPolygonView",
            "base": false,
            "bottom": false,
            "color": "blue",
            "dash_array": null,
            "draggable": false,
            "fill": true,
            "fill_color": "blue",
            "fill_opacity": 0.2,
            "line_cap": "round",
            "line_join": "round",
            "locations": [
              [
                55.79157857,
                49.05581216
              ],
              [
                55.79457119,
                49.00296876
              ],
              [
                55.80102575,
                48.98355862
              ],
              [
                55.81410362,
                49.00406575
              ],
              [
                55.82835613,
                49.02772878
              ],
              [
                55.82861255,
                49.04609018
              ],
              [
                55.82341167,
                49.08198871
              ],
              [
                55.81182168,
                49.10321252
              ],
              [
                55.80570817,
                49.09168861
              ]
            ],
            "name": "",
            "no_clip": true,
            "opacity": 1,
            "options": [
              "color",
              "dash_array",
              "draggable",
              "fill",
              "fill_color",
              "fill_opacity",
              "line_cap",
              "line_join",
              "no_clip",
              "opacity",
              "pointer_events",
              "smooth_factor",
              "stroke",
              "transform",
              "weight"
            ],
            "pane": "",
            "pointer_events": "",
            "popup": null,
            "popup_max_height": null,
            "popup_max_width": 300,
            "popup_min_width": 50,
            "rotation": true,
            "scaling": true,
            "smooth_factor": 1,
            "stroke": true,
            "subitems": [],
            "transform": false,
            "uniform_scaling": false,
            "weight": 5
          }
        },
        "2ab2b2eb04e04c95992d10c54a4247bd": {
          "model_module": "jupyter-leaflet",
          "model_name": "LeafletMarkerModel",
          "model_module_version": "^0.18",
          "state": {
            "_model_module": "jupyter-leaflet",
            "_model_module_version": "^0.18",
            "_model_name": "LeafletMarkerModel",
            "_view_count": null,
            "_view_module": "jupyter-leaflet",
            "_view_module_version": "^0.18",
            "_view_name": "LeafletMarkerView",
            "alt": "",
            "base": false,
            "bottom": false,
            "draggable": true,
            "icon": null,
            "keyboard": true,
            "location": [
              55.834447533,
              49.06333975700001
            ],
            "name": "",
            "opacity": 1,
            "options": [
              "alt",
              "draggable",
              "keyboard",
              "rise_offset",
              "rise_on_hover",
              "rotation_angle",
              "rotation_origin",
              "title",
              "z_index_offset"
            ],
            "pane": "",
            "popup": null,
            "popup_max_height": null,
            "popup_max_width": 300,
            "popup_min_width": 50,
            "rise_offset": 250,
            "rise_on_hover": false,
            "rotation_angle": 0,
            "rotation_origin": "",
            "subitems": [],
            "title": "Московский р-н",
            "visible": true,
            "z_index_offset": 0
          }
        },
        "9df938f43c6545c097e0afe9dd8d39a0": {
          "model_module": "jupyter-leaflet",
          "model_name": "LeafletPolygonModel",
          "model_module_version": "^0.18",
          "state": {
            "_model_module": "jupyter-leaflet",
            "_model_module_version": "^0.18",
            "_model_name": "LeafletPolygonModel",
            "_view_count": null,
            "_view_module": "jupyter-leaflet",
            "_view_module_version": "^0.18",
            "_view_name": "LeafletPolygonView",
            "base": false,
            "bottom": false,
            "color": "red",
            "dash_array": null,
            "draggable": false,
            "fill": true,
            "fill_color": "red",
            "fill_opacity": 0.2,
            "line_cap": "round",
            "line_join": "round",
            "locations": [
              [
                55.81703343,
                49.09114806
              ],
              [
                55.82896952,
                49.0427987
              ],
              [
                55.83514383,
                49.02335297
              ],
              [
                55.84316452,
                49.02822632
              ],
              [
                55.84393354,
                49.02882183
              ],
              [
                55.84686738,
                49.05424566
              ],
              [
                55.84528078,
                49.07596403
              ],
              [
                55.84148948,
                49.08337392
              ],
              [
                55.82465763,
                49.10643709
              ],
              [
                55.81793522,
                49.09902899
              ]
            ],
            "name": "",
            "no_clip": true,
            "opacity": 1,
            "options": [
              "color",
              "dash_array",
              "draggable",
              "fill",
              "fill_color",
              "fill_opacity",
              "line_cap",
              "line_join",
              "no_clip",
              "opacity",
              "pointer_events",
              "smooth_factor",
              "stroke",
              "transform",
              "weight"
            ],
            "pane": "",
            "pointer_events": "",
            "popup": null,
            "popup_max_height": null,
            "popup_max_width": 300,
            "popup_min_width": 50,
            "rotation": true,
            "scaling": true,
            "smooth_factor": 1,
            "stroke": true,
            "subitems": [],
            "transform": false,
            "uniform_scaling": false,
            "weight": 5
          }
        },
        "344c53906c2845d28bb14ecc8999e41f": {
          "model_module": "jupyter-leaflet",
          "model_name": "LeafletMarkerModel",
          "model_module_version": "^0.18",
          "state": {
            "_model_module": "jupyter-leaflet",
            "_model_module_version": "^0.18",
            "_model_name": "LeafletMarkerModel",
            "_view_count": null,
            "_view_module": "jupyter-leaflet",
            "_view_module_version": "^0.18",
            "_view_name": "LeafletMarkerView",
            "alt": "",
            "base": false,
            "bottom": false,
            "draggable": true,
            "icon": null,
            "keyboard": true,
            "location": [
              55.832233481818186,
              49.12888424181818
            ],
            "name": "",
            "opacity": 1,
            "options": [
              "alt",
              "draggable",
              "keyboard",
              "rise_offset",
              "rise_on_hover",
              "rotation_angle",
              "rotation_origin",
              "title",
              "z_index_offset"
            ],
            "pane": "",
            "popup": null,
            "popup_max_height": null,
            "popup_max_width": 300,
            "popup_min_width": 50,
            "rise_offset": 250,
            "rise_on_hover": false,
            "rotation_angle": 0,
            "rotation_origin": "",
            "subitems": [],
            "title": "Ново-Савиновский р-н",
            "visible": true,
            "z_index_offset": 0
          }
        },
        "8480ba66304f47e393e45753053f8617": {
          "model_module": "jupyter-leaflet",
          "model_name": "LeafletPolygonModel",
          "model_module_version": "^0.18",
          "state": {
            "_model_module": "jupyter-leaflet",
            "_model_module_version": "^0.18",
            "_model_name": "LeafletPolygonModel",
            "_view_count": null,
            "_view_module": "jupyter-leaflet",
            "_view_module_version": "^0.18",
            "_view_name": "LeafletPolygonView",
            "base": false,
            "bottom": false,
            "color": "white",
            "dash_array": null,
            "draggable": false,
            "fill": true,
            "fill_color": "white",
            "fill_opacity": 0.2,
            "line_cap": "round",
            "line_join": "round",
            "locations": [
              [
                55.83355611,
                49.09205691
              ],
              [
                55.84317032,
                49.09048384
              ],
              [
                55.84411471,
                49.09296946
              ],
              [
                55.84888838,
                49.14561398
              ],
              [
                55.84842969,
                49.15589655
              ],
              [
                55.84821382,
                49.16017302
              ],
              [
                55.82842188,
                49.16609233
              ],
              [
                55.82154427,
                49.16220761
              ],
              [
                55.81303454,
                49.13443587
              ],
              [
                55.81224943,
                49.10959414
              ],
              [
                55.81294515,
                49.10820295
              ]
            ],
            "name": "",
            "no_clip": true,
            "opacity": 1,
            "options": [
              "color",
              "dash_array",
              "draggable",
              "fill",
              "fill_color",
              "fill_opacity",
              "line_cap",
              "line_join",
              "no_clip",
              "opacity",
              "pointer_events",
              "smooth_factor",
              "stroke",
              "transform",
              "weight"
            ],
            "pane": "",
            "pointer_events": "",
            "popup": null,
            "popup_max_height": null,
            "popup_max_width": 300,
            "popup_min_width": 50,
            "rotation": true,
            "scaling": true,
            "smooth_factor": 1,
            "stroke": true,
            "subitems": [],
            "transform": false,
            "uniform_scaling": false,
            "weight": 5
          }
        },
        "a3432986807c4addb41f8181514dfb61": {
          "model_module": "jupyter-leaflet",
          "model_name": "LeafletMarkerModel",
          "model_module_version": "^0.18",
          "state": {
            "_model_module": "jupyter-leaflet",
            "_model_module_version": "^0.18",
            "_model_name": "LeafletMarkerModel",
            "_view_count": null,
            "_view_module": "jupyter-leaflet",
            "_view_module_version": "^0.18",
            "_view_name": "LeafletMarkerView",
            "alt": "",
            "base": false,
            "bottom": false,
            "draggable": true,
            "icon": null,
            "keyboard": true,
            "location": [
              55.731507220000005,
              49.181574616
            ],
            "name": "",
            "opacity": 1,
            "options": [
              "alt",
              "draggable",
              "keyboard",
              "rise_offset",
              "rise_on_hover",
              "rotation_angle",
              "rotation_origin",
              "title",
              "z_index_offset"
            ],
            "pane": "",
            "popup": null,
            "popup_max_height": null,
            "popup_max_width": 300,
            "popup_min_width": 50,
            "rise_offset": 250,
            "rise_on_hover": false,
            "rotation_angle": 0,
            "rotation_origin": "",
            "subitems": [],
            "title": "Приволжский р-н",
            "visible": true,
            "z_index_offset": 0
          }
        },
        "d34ec067588d4556aad58dd25cc86b6b": {
          "model_module": "jupyter-leaflet",
          "model_name": "LeafletPolygonModel",
          "model_module_version": "^0.18",
          "state": {
            "_model_module": "jupyter-leaflet",
            "_model_module_version": "^0.18",
            "_model_name": "LeafletPolygonModel",
            "_view_count": null,
            "_view_module": "jupyter-leaflet",
            "_view_module_version": "^0.18",
            "_view_name": "LeafletPolygonView",
            "base": false,
            "bottom": false,
            "color": "yellow",
            "dash_array": null,
            "draggable": false,
            "fill": true,
            "fill_color": "yellow",
            "fill_opacity": 0.2,
            "line_cap": "round",
            "line_join": "round",
            "locations": [
              [
                55.77392978,
                49.14481835
              ],
              [
                55.75827932,
                49.25162324
              ],
              [
                55.75770597,
                49.25406796
              ],
              [
                55.74729353,
                49.28122973
              ],
              [
                55.74449144,
                49.28271927
              ],
              [
                55.74122058,
                49.28204946
              ],
              [
                55.73575913,
                49.27714655
              ],
              [
                55.70984081,
                49.21767195
              ],
              [
                55.69123173,
                49.16411526
              ],
              [
                55.68995762,
                49.14355671
              ],
              [
                55.69440841,
                49.08698442
              ],
              [
                55.6981604,
                49.06306173
              ],
              [
                55.70005112,
                49.06250366
              ],
              [
                55.75925831,
                49.10014186
              ],
              [
                55.77102015,
                49.11192909
              ]
            ],
            "name": "",
            "no_clip": true,
            "opacity": 1,
            "options": [
              "color",
              "dash_array",
              "draggable",
              "fill",
              "fill_color",
              "fill_opacity",
              "line_cap",
              "line_join",
              "no_clip",
              "opacity",
              "pointer_events",
              "smooth_factor",
              "stroke",
              "transform",
              "weight"
            ],
            "pane": "",
            "pointer_events": "",
            "popup": null,
            "popup_max_height": null,
            "popup_max_width": 300,
            "popup_min_width": 50,
            "rotation": true,
            "scaling": true,
            "smooth_factor": 1,
            "stroke": true,
            "subitems": [],
            "transform": false,
            "uniform_scaling": false,
            "weight": 5
          }
        },
        "4903b8883fe1499d82cd47fcae541416": {
          "model_module": "jupyter-leaflet",
          "model_name": "LeafletMarkerModel",
          "model_module_version": "^0.18",
          "state": {
            "_model_module": "jupyter-leaflet",
            "_model_module_version": "^0.18",
            "_model_name": "LeafletMarkerModel",
            "_view_count": null,
            "_view_module": "jupyter-leaflet",
            "_view_module_version": "^0.18",
            "_view_name": "LeafletMarkerView",
            "alt": "",
            "base": false,
            "bottom": false,
            "draggable": true,
            "icon": null,
            "keyboard": true,
            "location": [
              55.80800713066666,
              49.23475830866667
            ],
            "name": "",
            "opacity": 1,
            "options": [
              "alt",
              "draggable",
              "keyboard",
              "rise_offset",
              "rise_on_hover",
              "rotation_angle",
              "rotation_origin",
              "title",
              "z_index_offset"
            ],
            "pane": "",
            "popup": null,
            "popup_max_height": null,
            "popup_max_width": 300,
            "popup_min_width": 50,
            "rise_offset": 250,
            "rise_on_hover": false,
            "rotation_angle": 0,
            "rotation_origin": "",
            "subitems": [],
            "title": "Советский р-н",
            "visible": true,
            "z_index_offset": 0
          }
        },
        "bd5eb1fe936e4287afa97c62ee6d30ca": {
          "model_module": "jupyter-leaflet",
          "model_name": "LeafletPolygonModel",
          "model_module_version": "^0.18",
          "state": {
            "_model_module": "jupyter-leaflet",
            "_model_module_version": "^0.18",
            "_model_name": "LeafletPolygonModel",
            "_view_count": null,
            "_view_module": "jupyter-leaflet",
            "_view_module_version": "^0.18",
            "_view_name": "LeafletPolygonView",
            "base": false,
            "bottom": false,
            "color": "green",
            "dash_array": null,
            "draggable": false,
            "fill": true,
            "fill_color": "green",
            "fill_opacity": 0.2,
            "line_cap": "round",
            "line_join": "round",
            "locations": [
              [
                55.75996203,
                49.16506946
              ],
              [
                55.79701666,
                49.16197596
              ],
              [
                55.85077252,
                49.167975
              ],
              [
                55.85839452,
                49.17391473
              ],
              [
                55.8619433,
                49.18931734
              ],
              [
                55.85855522,
                49.20314189
              ],
              [
                55.85172355,
                49.22550653
              ],
              [
                55.84101221,
                49.24695937
              ],
              [
                55.81497592,
                49.28114693
              ],
              [
                55.81151284,
                49.28475268
              ],
              [
                55.80333358,
                49.2875187
              ],
              [
                55.76163269,
                49.29372761
              ],
              [
                55.74971864,
                49.28628329
              ],
              [
                55.74933053,
                49.28282012
              ],
              [
                55.75022275,
                49.27126502
              ]
            ],
            "name": "",
            "no_clip": true,
            "opacity": 1,
            "options": [
              "color",
              "dash_array",
              "draggable",
              "fill",
              "fill_color",
              "fill_opacity",
              "line_cap",
              "line_join",
              "no_clip",
              "opacity",
              "pointer_events",
              "smooth_factor",
              "stroke",
              "transform",
              "weight"
            ],
            "pane": "",
            "pointer_events": "",
            "popup": null,
            "popup_max_height": null,
            "popup_max_width": 300,
            "popup_min_width": 50,
            "rotation": true,
            "scaling": true,
            "smooth_factor": 1,
            "stroke": true,
            "subitems": [],
            "transform": false,
            "uniform_scaling": false,
            "weight": 5
          }
        },
        "36d8bb0e65ee42f3a2d5c3aadcd83f48": {
          "model_module": "@jupyter-widgets/base",
          "model_name": "LayoutModel",
          "model_module_version": "1.2.0",
          "state": {
            "_model_module": "@jupyter-widgets/base",
            "_model_module_version": "1.2.0",
            "_model_name": "LayoutModel",
            "_view_count": null,
            "_view_module": "@jupyter-widgets/base",
            "_view_module_version": "1.2.0",
            "_view_name": "LayoutView",
            "align_content": null,
            "align_items": null,
            "align_self": null,
            "border": null,
            "bottom": null,
            "display": null,
            "flex": null,
            "flex_flow": null,
            "grid_area": null,
            "grid_auto_columns": null,
            "grid_auto_flow": null,
            "grid_auto_rows": null,
            "grid_column": null,
            "grid_gap": null,
            "grid_row": null,
            "grid_template_areas": null,
            "grid_template_columns": null,
            "grid_template_rows": null,
            "height": "900px",
            "justify_content": null,
            "justify_items": null,
            "left": null,
            "margin": null,
            "max_height": null,
            "max_width": null,
            "min_height": null,
            "min_width": null,
            "object_fit": null,
            "object_position": null,
            "order": null,
            "overflow": null,
            "overflow_x": null,
            "overflow_y": null,
            "padding": null,
            "right": null,
            "top": null,
            "visibility": null,
            "width": "100%"
          }
        },
        "e379e87f8305457daa3c2a2f31dc8e80": {
          "model_module": "jupyter-leaflet",
          "model_name": "LeafletMapStyleModel",
          "model_module_version": "^0.18",
          "state": {
            "_model_module": "jupyter-leaflet",
            "_model_module_version": "^0.18",
            "_model_name": "LeafletMapStyleModel",
            "_view_count": null,
            "_view_module": "@jupyter-widgets/base",
            "_view_module_version": "1.2.0",
            "_view_name": "StyleView",
            "cursor": "grab"
          }
        }
      }
    }
  },
  "cells": [
    {
      "cell_type": "code",
      "execution_count": 1,
      "metadata": {
        "colab": {
          "base_uri": "https://localhost:8080/",
          "height": 69
        },
        "id": "Y931syXaYIsx",
        "outputId": "05a25f6c-6757-41a6-87f0-70ee27dea874"
      },
      "outputs": [
        {
          "output_type": "display_data",
          "data": {
            "text/plain": [
              "<IPython.core.display.HTML object>"
            ],
            "text/html": [
              "\n",
              "     <input type=\"file\" id=\"files-a660d768-8de2-4d92-b114-83b524e7c5ba\" name=\"files[]\" multiple disabled\n",
              "        style=\"border:none\" />\n",
              "     <output id=\"result-a660d768-8de2-4d92-b114-83b524e7c5ba\">\n",
              "      Upload widget is only available when the cell has been executed in the\n",
              "      current browser session. Please rerun this cell to enable.\n",
              "      </output>\n",
              "      <script>// Copyright 2017 Google LLC\n",
              "//\n",
              "// Licensed under the Apache License, Version 2.0 (the \"License\");\n",
              "// you may not use this file except in compliance with the License.\n",
              "// You may obtain a copy of the License at\n",
              "//\n",
              "//      http://www.apache.org/licenses/LICENSE-2.0\n",
              "//\n",
              "// Unless required by applicable law or agreed to in writing, software\n",
              "// distributed under the License is distributed on an \"AS IS\" BASIS,\n",
              "// WITHOUT WARRANTIES OR CONDITIONS OF ANY KIND, either express or implied.\n",
              "// See the License for the specific language governing permissions and\n",
              "// limitations under the License.\n",
              "\n",
              "/**\n",
              " * @fileoverview Helpers for google.colab Python module.\n",
              " */\n",
              "(function(scope) {\n",
              "function span(text, styleAttributes = {}) {\n",
              "  const element = document.createElement('span');\n",
              "  element.textContent = text;\n",
              "  for (const key of Object.keys(styleAttributes)) {\n",
              "    element.style[key] = styleAttributes[key];\n",
              "  }\n",
              "  return element;\n",
              "}\n",
              "\n",
              "// Max number of bytes which will be uploaded at a time.\n",
              "const MAX_PAYLOAD_SIZE = 100 * 1024;\n",
              "\n",
              "function _uploadFiles(inputId, outputId) {\n",
              "  const steps = uploadFilesStep(inputId, outputId);\n",
              "  const outputElement = document.getElementById(outputId);\n",
              "  // Cache steps on the outputElement to make it available for the next call\n",
              "  // to uploadFilesContinue from Python.\n",
              "  outputElement.steps = steps;\n",
              "\n",
              "  return _uploadFilesContinue(outputId);\n",
              "}\n",
              "\n",
              "// This is roughly an async generator (not supported in the browser yet),\n",
              "// where there are multiple asynchronous steps and the Python side is going\n",
              "// to poll for completion of each step.\n",
              "// This uses a Promise to block the python side on completion of each step,\n",
              "// then passes the result of the previous step as the input to the next step.\n",
              "function _uploadFilesContinue(outputId) {\n",
              "  const outputElement = document.getElementById(outputId);\n",
              "  const steps = outputElement.steps;\n",
              "\n",
              "  const next = steps.next(outputElement.lastPromiseValue);\n",
              "  return Promise.resolve(next.value.promise).then((value) => {\n",
              "    // Cache the last promise value to make it available to the next\n",
              "    // step of the generator.\n",
              "    outputElement.lastPromiseValue = value;\n",
              "    return next.value.response;\n",
              "  });\n",
              "}\n",
              "\n",
              "/**\n",
              " * Generator function which is called between each async step of the upload\n",
              " * process.\n",
              " * @param {string} inputId Element ID of the input file picker element.\n",
              " * @param {string} outputId Element ID of the output display.\n",
              " * @return {!Iterable<!Object>} Iterable of next steps.\n",
              " */\n",
              "function* uploadFilesStep(inputId, outputId) {\n",
              "  const inputElement = document.getElementById(inputId);\n",
              "  inputElement.disabled = false;\n",
              "\n",
              "  const outputElement = document.getElementById(outputId);\n",
              "  outputElement.innerHTML = '';\n",
              "\n",
              "  const pickedPromise = new Promise((resolve) => {\n",
              "    inputElement.addEventListener('change', (e) => {\n",
              "      resolve(e.target.files);\n",
              "    });\n",
              "  });\n",
              "\n",
              "  const cancel = document.createElement('button');\n",
              "  inputElement.parentElement.appendChild(cancel);\n",
              "  cancel.textContent = 'Cancel upload';\n",
              "  const cancelPromise = new Promise((resolve) => {\n",
              "    cancel.onclick = () => {\n",
              "      resolve(null);\n",
              "    };\n",
              "  });\n",
              "\n",
              "  // Wait for the user to pick the files.\n",
              "  const files = yield {\n",
              "    promise: Promise.race([pickedPromise, cancelPromise]),\n",
              "    response: {\n",
              "      action: 'starting',\n",
              "    }\n",
              "  };\n",
              "\n",
              "  cancel.remove();\n",
              "\n",
              "  // Disable the input element since further picks are not allowed.\n",
              "  inputElement.disabled = true;\n",
              "\n",
              "  if (!files) {\n",
              "    return {\n",
              "      response: {\n",
              "        action: 'complete',\n",
              "      }\n",
              "    };\n",
              "  }\n",
              "\n",
              "  for (const file of files) {\n",
              "    const li = document.createElement('li');\n",
              "    li.append(span(file.name, {fontWeight: 'bold'}));\n",
              "    li.append(span(\n",
              "        `(${file.type || 'n/a'}) - ${file.size} bytes, ` +\n",
              "        `last modified: ${\n",
              "            file.lastModifiedDate ? file.lastModifiedDate.toLocaleDateString() :\n",
              "                                    'n/a'} - `));\n",
              "    const percent = span('0% done');\n",
              "    li.appendChild(percent);\n",
              "\n",
              "    outputElement.appendChild(li);\n",
              "\n",
              "    const fileDataPromise = new Promise((resolve) => {\n",
              "      const reader = new FileReader();\n",
              "      reader.onload = (e) => {\n",
              "        resolve(e.target.result);\n",
              "      };\n",
              "      reader.readAsArrayBuffer(file);\n",
              "    });\n",
              "    // Wait for the data to be ready.\n",
              "    let fileData = yield {\n",
              "      promise: fileDataPromise,\n",
              "      response: {\n",
              "        action: 'continue',\n",
              "      }\n",
              "    };\n",
              "\n",
              "    // Use a chunked sending to avoid message size limits. See b/62115660.\n",
              "    let position = 0;\n",
              "    do {\n",
              "      const length = Math.min(fileData.byteLength - position, MAX_PAYLOAD_SIZE);\n",
              "      const chunk = new Uint8Array(fileData, position, length);\n",
              "      position += length;\n",
              "\n",
              "      const base64 = btoa(String.fromCharCode.apply(null, chunk));\n",
              "      yield {\n",
              "        response: {\n",
              "          action: 'append',\n",
              "          file: file.name,\n",
              "          data: base64,\n",
              "        },\n",
              "      };\n",
              "\n",
              "      let percentDone = fileData.byteLength === 0 ?\n",
              "          100 :\n",
              "          Math.round((position / fileData.byteLength) * 100);\n",
              "      percent.textContent = `${percentDone}% done`;\n",
              "\n",
              "    } while (position < fileData.byteLength);\n",
              "  }\n",
              "\n",
              "  // All done.\n",
              "  yield {\n",
              "    response: {\n",
              "      action: 'complete',\n",
              "    }\n",
              "  };\n",
              "}\n",
              "\n",
              "scope.google = scope.google || {};\n",
              "scope.google.colab = scope.google.colab || {};\n",
              "scope.google.colab._files = {\n",
              "  _uploadFiles,\n",
              "  _uploadFilesContinue,\n",
              "};\n",
              "})(self);\n",
              "</script> "
            ]
          },
          "metadata": {}
        },
        {
          "output_type": "stream",
          "name": "stdout",
          "text": [
            "Saving points.csv to points.csv\n"
          ]
        }
      ],
      "source": [
        "from google.colab import files\n",
        "uploaded = files.upload()\n",
        "from ipyleaflet import Map, Marker, Polygon, FullScreenControl, LegendControl\n",
        "from ipywidgets import Layout\n",
        "import pandas as pd\n",
        "from scipy.spatial import ConvexHull\n",
        "\n",
        "PATH_TO_SAVE = \"convex_hulls.csv\"\n",
        "points_df = pd.read_csv(\"/content/points.csv\")\n",
        "\n",
        "class MapRenderer:\n",
        "    def __init__(self, district_data: pd.DataFrame, points_data: pd.DataFrame):\n",
        "        self.__points_data = points_data\n",
        "        self.__district_data = district_data\n",
        "\n",
        "    def get_map(self) -> Map:\n",
        "        center_lat = self.__points_data['lat'].median()\n",
        "        center_lon = self.__points_data['lon'].median()\n",
        "\n",
        "        m = Map(center=[center_lat, center_lon], zoom=12, layout=Layout(width='100%', height='900px'))\n",
        "\n",
        "\n",
        "        for _, row in self.__district_data.iterrows():\n",
        "            district_name = row['district']\n",
        "            center_lat, center_lon = row['center']\n",
        "            marker = Marker(location=[center_lat, center_lon], title=district_name)\n",
        "            m.add_layer(marker)\n",
        "            points = eval(row['points'])\n",
        "            polygon = Polygon(locations=points, color=row['color'], fill_opacity=0.2, fill_color=row['color'])\n",
        "            m.add_layer(polygon)\n",
        "\n",
        "        names = {row['district']: row['color'] for _, row in self.__district_data.iterrows()}\n",
        "        names_control = LegendControl(legend=names, name='Районы Казани')\n",
        "        m.add_control(names_control)\n",
        "\n",
        "        return m\n",
        "\n",
        "class ConvexHullBuilder:\n",
        "    def __init__(self, points: pd.DataFrame):\n",
        "        self.__points = points\n",
        "\n",
        "    def get_convex_hull(self) -> pd.DataFrame:\n",
        "        convex_hulls = []\n",
        "        grouped_data = self.__points.groupby('district')\n",
        "\n",
        "        district_colors = {\n",
        "            'Советский р-н': 'green',\n",
        "            'Кировский р-н': 'blue',\n",
        "            'Приволжский р-н': 'yellow',\n",
        "            'Московский р-н': 'red',\n",
        "            'Авиастроительный р-н': 'pink',\n",
        "            'Ново-Савиновский р-н': 'white',\n",
        "            'Вахитовский р-н': 'black',\n",
        "            'Верхнеуслонский р-н': 'brown',\n",
        "        }\n",
        "\n",
        "        for district, group in grouped_data:\n",
        "            points = group[['lat', 'lon']].values\n",
        "            hull = ConvexHull(points)\n",
        "            hull_points = points[hull.vertices]\n",
        "            center = tuple(hull_points.mean(axis=0))\n",
        "            color = district_colors.get(district)\n",
        "\n",
        "            convex_hulls.append({\n",
        "                'district': district,\n",
        "                'points': hull_points.tolist(),\n",
        "                'center': center,\n",
        "                'color': color\n",
        "            })\n",
        "\n",
        "\n",
        "        return pd.DataFrame(convex_hulls)\n",
        "\n",
        "builder = ConvexHullBuilder(points_df)\n",
        "\n",
        "result_df = builder.get_convex_hull()\n",
        "\n",
        "result_df.to_csv(PATH_TO_SAVE, index=False)\n",
        ""
      ]
    },
    {
      "cell_type": "code",
      "source": [
        "points_df = pd.read_csv(\"points.csv\")\n",
        "districts_df = pd.read_csv(\"convex_hulls.csv\")\n",
        "\n",
        "districts_df['center'] = districts_df['center'].apply(eval)\n",
        "\n",
        "renderer = MapRenderer(districts_df, points_df)\n",
        "renderer.get_map()"
      ],
      "metadata": {
        "colab": {
          "base_uri": "https://localhost:8080/",
          "height": 941,
          "referenced_widgets": [
            "50576b16b6f24f3798e09444eb27de2d",
            "12837884416749bc96ea3cf8b1f636d1",
            "df0cda2537414e7c938e98ceaa0e2748",
            "5abbf6a26fd84f068f717ec61ab2e683",
            "67bcd63082ea4e9fb587266affad7d4c",
            "498bbaa2269f4a0c8fac06c7f70093f3",
            "51b92ab56dda492b81f8d7b8650d0bd9",
            "fe8773108cc44356b9cf4e1fed4f5a7c",
            "681d4cd1894b4dae8e91660d7ca35a25",
            "5aaf0d251f4b49e5b1e54cbedfc3c8d2",
            "27cd4a8fa51c4ca78f0440acfc5d8e30",
            "679859279285456ea779831e8fb20fdf",
            "47fa07eb285f416eb208ca28deab9525",
            "8011743eb17c47d3a4e7aa8bb66553ba",
            "497d751403e04a52833491b33013f296",
            "2ab2b2eb04e04c95992d10c54a4247bd",
            "9df938f43c6545c097e0afe9dd8d39a0",
            "344c53906c2845d28bb14ecc8999e41f",
            "8480ba66304f47e393e45753053f8617",
            "a3432986807c4addb41f8181514dfb61",
            "d34ec067588d4556aad58dd25cc86b6b",
            "4903b8883fe1499d82cd47fcae541416",
            "bd5eb1fe936e4287afa97c62ee6d30ca",
            "36d8bb0e65ee42f3a2d5c3aadcd83f48",
            "e379e87f8305457daa3c2a2f31dc8e80"
          ]
        },
        "id": "hFcHT9XZYn6Z",
        "outputId": "3cb17747-e6b2-4c33-c55b-05e72887c9e9"
      },
      "execution_count": 2,
      "outputs": [
        {
          "output_type": "display_data",
          "data": {
            "text/plain": [
              "Map(center=[55.79462976, 49.15689314], controls=(ZoomControl(options=['position', 'zoom_in_text', 'zoom_in_tit…"
            ],
            "application/vnd.jupyter.widget-view+json": {
              "version_major": 2,
              "version_minor": 0,
              "model_id": "50576b16b6f24f3798e09444eb27de2d"
            }
          },
          "metadata": {
            "application/vnd.jupyter.widget-view+json": {
              "colab": {
                "custom_widget_manager": {
                  "url": "https://ssl.gstatic.com/colaboratory-static/widgets/colab-cdn-widget-manager/2b70e893a8ba7c0f/manager.min.js"
                }
              }
            }
          }
        }
      ]
    }
  ]
}